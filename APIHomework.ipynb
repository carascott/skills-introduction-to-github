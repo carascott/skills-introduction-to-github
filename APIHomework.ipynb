{
  "nbformat": 4,
  "nbformat_minor": 0,
  "metadata": {
    "colab": {
      "provenance": [],
      "authorship_tag": "ABX9TyNqKvqqs2pzp0PrG8RiE5yb",
      "include_colab_link": true
    },
    "kernelspec": {
      "name": "python3",
      "display_name": "Python 3"
    },
    "language_info": {
      "name": "python"
    }
  },
  "cells": [
    {
      "cell_type": "markdown",
      "metadata": {
        "id": "view-in-github",
        "colab_type": "text"
      },
      "source": [
        "<a href=\"https://colab.research.google.com/github/carascott/skills-introduction-to-github/blob/main/APIHomework.ipynb\" target=\"_parent\"><img src=\"https://colab.research.google.com/assets/colab-badge.svg\" alt=\"Open In Colab\"/></a>"
      ]
    },
    {
      "cell_type": "code",
      "execution_count": 3,
      "metadata": {
        "id": "IzbKOywPAbzA"
      },
      "outputs": [],
      "source": [
        "import json\n",
        "import pandas as pd\n",
        "import json\n",
        "import requests"
      ]
    },
    {
      "cell_type": "code",
      "source": [
        "# 1\n",
        "stock = input()"
      ],
      "metadata": {
        "colab": {
          "base_uri": "https://localhost:8080/"
        },
        "id": "65A-dmGWCUts",
        "outputId": "6f7e77ce-9ef8-4600-89ec-64ad796d8e11"
      },
      "execution_count": 5,
      "outputs": [
        {
          "name": "stdout",
          "output_type": "stream",
          "text": [
            "AAPL\n"
          ]
        }
      ]
    },
    {
      "cell_type": "code",
      "source": [
        "print(\"The Stock we will research is: \" + stock)"
      ],
      "metadata": {
        "colab": {
          "base_uri": "https://localhost:8080/"
        },
        "id": "_RJmIflWM83L",
        "outputId": "5e67347c-21d1-4213-cf28-3c2b0f73db70"
      },
      "execution_count": 6,
      "outputs": [
        {
          "output_type": "stream",
          "name": "stdout",
          "text": [
            "The Stock we will research is: AAPL\n"
          ]
        }
      ]
    },
    {
      "cell_type": "code",
      "source": [
        "# 4\n",
        "apikey = \"SvSrgl8vOP48eigyRsxgN1Ua1rjgw30H8TEOx6eJ\"\n",
        "\n",
        "url = \"https://yfapi.net/v6/finance/quote\"\n",
        "\n",
        "querystring = {\"symbols\": stock}\n",
        "\n",
        "headers = {\n",
        "    'x-api-key': apikey\n",
        "}\n",
        "\n",
        "response = requests.get(url, headers=headers, params=querystring)\n",
        "\n",
        "if response.status_code == 200:\n",
        "    stock_json = response.json()\n",
        "    print(json.dumps(stock_json, indent=4))\n",
        "else:\n",
        "    print(f\"Error: {response.status_code}, {response.text}\")"
      ],
      "metadata": {
        "colab": {
          "base_uri": "https://localhost:8080/"
        },
        "id": "ZkZgws7DNHWC",
        "outputId": "d6d2350a-bd43-4dcc-ab11-ce1d6787ba98"
      },
      "execution_count": 7,
      "outputs": [
        {
          "output_type": "stream",
          "name": "stdout",
          "text": [
            "{\n",
            "    \"quoteResponse\": {\n",
            "        \"result\": [\n",
            "            {\n",
            "                \"language\": \"en-US\",\n",
            "                \"region\": \"US\",\n",
            "                \"quoteType\": \"EQUITY\",\n",
            "                \"typeDisp\": \"Equity\",\n",
            "                \"quoteSourceName\": \"Nasdaq Real Time Price\",\n",
            "                \"triggerable\": true,\n",
            "                \"customPriceAlertConfidence\": \"HIGH\",\n",
            "                \"currency\": \"USD\",\n",
            "                \"tradeable\": false,\n",
            "                \"cryptoTradeable\": false,\n",
            "                \"earningsTimestamp\": 1722544200,\n",
            "                \"earningsTimestampStart\": 1730372340,\n",
            "                \"earningsTimestampEnd\": 1730721600,\n",
            "                \"dividendYield\": 0.44,\n",
            "                \"epsTrailingTwelveMonths\": 6.56,\n",
            "                \"epsForward\": 7.48,\n",
            "                \"epsCurrentYear\": 6.68,\n",
            "                \"priceEpsCurrentYear\": 33.97605,\n",
            "                \"sharesOutstanding\": 15204100096,\n",
            "                \"bookValue\": 4.382,\n",
            "                \"fiftyDayAverage\": 222.3106,\n",
            "                \"fiftyDayAverageChange\": 4.649414,\n",
            "                \"fiftyDayAverageChangePercent\": 0.020914046,\n",
            "                \"twoHundredDayAverage\": 197.51375,\n",
            "                \"twoHundredDayAverageChange\": 29.446259,\n",
            "                \"twoHundredDayAverageChangePercent\": 0.1490846,\n",
            "                \"marketCap\": 3450722582528,\n",
            "                \"forwardPE\": 30.342247,\n",
            "                \"priceToBook\": 51.793705,\n",
            "                \"sourceInterval\": 15,\n",
            "                \"exchangeDataDelayedBy\": 0,\n",
            "                \"averageAnalystRating\": \"2.0 - Buy\",\n",
            "                \"exchange\": \"NMS\",\n",
            "                \"shortName\": \"Apple Inc.\",\n",
            "                \"longName\": \"Apple Inc.\",\n",
            "                \"messageBoardId\": \"finmb_24937\",\n",
            "                \"exchangeTimezoneName\": \"America/New_York\",\n",
            "                \"exchangeTimezoneShortName\": \"EDT\",\n",
            "                \"gmtOffSetMilliseconds\": -14400000,\n",
            "                \"market\": \"us_market\",\n",
            "                \"esgPopulated\": false,\n",
            "                \"regularMarketChangePercent\": 0.33155033,\n",
            "                \"regularMarketPrice\": 226.96,\n",
            "                \"earningsCallTimestampStart\": 1722546000,\n",
            "                \"earningsCallTimestampEnd\": 1722546000,\n",
            "                \"isEarningsDateEstimate\": true,\n",
            "                \"trailingAnnualDividendRate\": 0.97,\n",
            "                \"trailingPE\": 34.59756,\n",
            "                \"dividendRate\": 1.0,\n",
            "                \"trailingAnnualDividendYield\": 0.004288051,\n",
            "                \"marketState\": \"REGULAR\",\n",
            "                \"hasPrePostMarketData\": true,\n",
            "                \"firstTradeDateMilliseconds\": 345479400000,\n",
            "                \"priceHint\": 2,\n",
            "                \"regularMarketChange\": 0.75,\n",
            "                \"regularMarketTime\": 1727888923,\n",
            "                \"regularMarketDayHigh\": 227.05,\n",
            "                \"regularMarketDayRange\": \"223.03 - 227.05\",\n",
            "                \"regularMarketDayLow\": 223.03,\n",
            "                \"regularMarketVolume\": 19395966,\n",
            "                \"regularMarketPreviousClose\": 226.21,\n",
            "                \"bid\": 226.72,\n",
            "                \"ask\": 227.11,\n",
            "                \"bidSize\": 1,\n",
            "                \"askSize\": 1,\n",
            "                \"fullExchangeName\": \"NasdaqGS\",\n",
            "                \"financialCurrency\": \"USD\",\n",
            "                \"regularMarketOpen\": 225.89,\n",
            "                \"averageDailyVolume3Month\": 54799968,\n",
            "                \"averageDailyVolume10Day\": 77351150,\n",
            "                \"fiftyTwoWeekLowChange\": 62.880005,\n",
            "                \"fiftyTwoWeekLowChangePercent\": 0.3832277,\n",
            "                \"fiftyTwoWeekRange\": \"164.08 - 237.23\",\n",
            "                \"fiftyTwoWeekHighChange\": -10.269989,\n",
            "                \"fiftyTwoWeekHighChangePercent\": -0.043291274,\n",
            "                \"fiftyTwoWeekLow\": 164.08,\n",
            "                \"fiftyTwoWeekHigh\": 237.23,\n",
            "                \"fiftyTwoWeekChangePercent\": 30.260277,\n",
            "                \"dividendDate\": 1723680000,\n",
            "                \"displayName\": \"Apple\",\n",
            "                \"symbol\": \"AAPL\"\n",
            "            }\n",
            "        ],\n",
            "        \"error\": null\n",
            "    }\n",
            "}\n"
          ]
        }
      ]
    },
    {
      "cell_type": "code",
      "source": [
        "# 2\n",
        "if response.status_code == 200:\n",
        "    stock_json = response.json()\n",
        "    if 'quoteResponse' in stock_json and 'result' in stock_json['quoteResponse'] and stock_json['quoteResponse']['result']:\n",
        "        stock_data = stock_json['quoteResponse']['result'][0]\n",
        "        print(f\"Ticker Name: {stock_data.get('symbol')}\")\n",
        "        print(f\"Full Name: {stock_data.get('longName')}\")\n",
        "        print(f\"Current Market Price: {stock_data.get('regularMarketPrice')}\")\n",
        "        print(f\"Target Mean Price: {stock_data.get('targetMeanPrice')}\")\n",
        "        print(f\"52 Week High: {stock_data.get('fiftyTwoWeekHigh')}\")\n",
        "        print(f\"52 Week Low: {stock_data.get('fiftyTwoWeekLow')}\")\n",
        "\n",
        "        trending_url = \"https://yfapi.net/v11/finance/trending\"\n",
        "        trending_response = requests.get(trending_url, headers=headers)\n",
        "        if trending_response.status_code == 200:\n",
        "            trending_json = trending_response.json()\n",
        "            if 'finance' in trending_json and 'result' in trending_json['finance'] and trending_json['finance']['result']:\n",
        "                trending_stocks = trending_json['finance']['result'][0]['quotes'][:5]\n",
        "                print(\"\\nTop 5 Trending Stocks:\")\n",
        "                for stock in trending_stocks:\n",
        "                    print(f\"- {stock.get('symbol')}: {stock.get('shortName')}\")\n",
        "\n",
        "        else:\n",
        "            print(f\"Error fetching trending stocks: {trending_response.status_code}, {trending_response.text}\")\n",
        "    else:\n",
        "        print(\"Stock data not found in the response.\")\n",
        "else:\n",
        "    print(f\"Error: {response.status_code}, {response.text}\")"
      ],
      "metadata": {
        "colab": {
          "base_uri": "https://localhost:8080/"
        },
        "id": "hZFl1r1kO8sF",
        "outputId": "1984ba5d-a422-4f40-8ba0-72d81d2901b1"
      },
      "execution_count": 19,
      "outputs": [
        {
          "output_type": "stream",
          "name": "stdout",
          "text": [
            "Ticker Name: AAPL\n",
            "Full Name: Apple Inc.\n",
            "Current Market Price: 226.96\n",
            "Target Mean Price: None\n",
            "52 Week High: 237.23\n",
            "52 Week Low: 164.08\n",
            "Error fetching trending stocks: 403, {\"message\":\"Missing Authentication Token\",\"hint\":\"Sign up for API key https://financeapi.net/tutorial\"}\n"
          ]
        }
      ]
    },
    {
      "cell_type": "code",
      "source": [
        "if response.status_code == 200:\n",
        "    stock_json = response.json()\n",
        "    if 'quoteResponse' in stock_json and 'result' in stock_json['quoteResponse'] and stock_json['quoteResponse']['result']:\n",
        "        stock_data = stock_json['quoteResponse']['result'][0]\n",
        "        print(f\"Ticker Name: {stock_data.get('symbol')}\")\n",
        "        print(f\"Full Name: {stock_data.get('longName')}\")\n",
        "        print(f\"Current Market Price: {stock_data.get('regularMarketPrice')}\")\n",
        "        print(f\"Target Mean Price: {stock_data.get('targetMeanPrice')}\")\n",
        "        print(f\"52 Week High: {stock_data.get('fiftyTwoWeekHigh')}\")\n",
        "        print(f\"52 Week Low: {stock_data.get('fiftyTwoWeekLow')}\")\n",
        "\n",
        "    else:\n",
        "        print(\"Stock data not found in the response.\")\n",
        "else:\n",
        "    print(f\"Error: {response.status_code}, {response.text}\")\n",
        "\n",
        "trending_url = \"https://yfapi.net/v1/finance/trending/US\"\n",
        "\n",
        "trending_response = requests.get(trending_url, headers=headers)\n",
        "\n",
        "if trending_response.status_code == 200:\n",
        "    trending_json = trending_response.json()\n",
        "    if 'finance' in trending_json and 'result' in trending_json['finance'] and trending_json['finance']['result']:\n",
        "        trending_stocks = trending_json['finance']['result'][0]['quotes'][:5]\n",
        "        print(\"\\nTop 5 Trending Stocks:\")\n",
        "        for stock in trending_stocks:\n",
        "            print(f\"- {stock.get('symbol')}: {stock.get('shortName')}\")\n",
        "    else:\n",
        "        print(\"Trending stock data not found in the response.\")\n",
        "else:\n",
        "    print(f\"Error fetching trending stocks: {trending_response.status_code}, {trending_response.text}\")"
      ],
      "metadata": {
        "colab": {
          "base_uri": "https://localhost:8080/"
        },
        "id": "T1T958aUQExf",
        "outputId": "211208de-d9e9-4e69-99cd-3f821d2ab046"
      },
      "execution_count": 26,
      "outputs": [
        {
          "output_type": "stream",
          "name": "stdout",
          "text": [
            "Ticker Name: AAPL\n",
            "Full Name: Apple Inc.\n",
            "Current Market Price: 226.775\n",
            "Target Mean Price: None\n",
            "52 Week High: 237.23\n",
            "52 Week Low: 164.08\n",
            "\n",
            "Top 5 Trending Stocks:\n",
            "- HUM: None\n",
            "- TSLA: None\n",
            "- JOBY: None\n",
            "- NKE: None\n",
            "- CLOV: None\n"
          ]
        }
      ]
    },
    {
      "cell_type": "code",
      "source": [
        "if response.status_code == 200:\n",
        "    stock_json = response.json()\n",
        "    if 'quoteResponse' in stock_json and 'result' in stock_json['quoteResponse'] and stock_json['quoteResponse']['result']:\n",
        "        stock_data = stock_json['quoteResponse']['result'][0]\n",
        "        stock_info = {\n",
        "            'Ticker Name': stock_data.get('symbol'),\n",
        "            'Full Name': stock_data.get('longName'),\n",
        "            'Current Market Price': stock_data.get('regularMarketPrice'),\n",
        "            'Target Mean Price': stock_data.get('targetMeanPrice'),\n",
        "            '52 Week High': stock_data.get('fiftyTwoWeekHigh'),\n",
        "            '52 Week Low': stock_data.get('fiftyTwoWeekLow')\n",
        "        }\n",
        "\n",
        "        trending_url = \"https://yfapi.net/v1/finance/trending/US\"\n",
        "        trending_response = requests.get(trending_url, headers=headers)\n",
        "\n",
        "        if trending_response.status_code == 200:\n",
        "            trending_json = trending_response.json()\n",
        "            if 'finance' in trending_json and 'result' in trending_json['finance'] and trending_json['finance']['result']:\n",
        "                trending_stocks = trending_json['finance']['result'][0]['quotes'][:5]\n",
        "                trending_data = []\n",
        "                for stock in trending_stocks:\n",
        "                    trending_data.append({\n",
        "                        'Trending Ticker': stock.get('symbol'),\n",
        "                        'Trending Name': stock.get('shortName')\n",
        "                    })\n",
        "\n",
        "                df = pd.DataFrame({**stock_info, **{'Trending Stocks': [trending_data]}})\n",
        "                print(df)\n",
        "\n",
        "                df.to_csv('stock_data.csv', index=False)\n",
        "                print(\"Data saved to stock_data.csv\")\n",
        "\n",
        "            else:\n",
        "                print(\"Trending stock data not found in the response.\")\n",
        "        else:\n",
        "            print(f\"Error fetching trending stocks: {trending_response.status_code}, {trending_response.text}\")\n",
        "    else:\n",
        "        print(\"Stock data not found in the response.\")\n",
        "else:\n",
        "    print(f\"Error: {response.status_code}, {response.text}\")"
      ],
      "metadata": {
        "colab": {
          "base_uri": "https://localhost:8080/"
        },
        "id": "TOxZH3w7Q5Av",
        "outputId": "7e76a674-6d69-4221-9227-1a26fdbb72f1"
      },
      "execution_count": 31,
      "outputs": [
        {
          "output_type": "stream",
          "name": "stdout",
          "text": [
            "  Ticker Name   Full Name  Current Market Price Target Mean Price  \\\n",
            "0        AAPL  Apple Inc.               226.775              None   \n",
            "\n",
            "   52 Week High  52 Week Low  \\\n",
            "0        237.23       164.08   \n",
            "\n",
            "                                     Trending Stocks  \n",
            "0  [{'Trending Ticker': 'HUM', 'Trending Name': N...  \n",
            "Data saved to stock_data.csv\n"
          ]
        }
      ]
    },
    {
      "cell_type": "code",
      "source": [
        "import matplotlib.pyplot as plt\n",
        "import yfinance as yf\n",
        "\n",
        "stock_ticker = input()\n",
        "\n",
        "data = yf.download(stock_ticker, period=\"5d\")\n",
        "\n",
        "high_prices = data['High']\n",
        "\n",
        "plt.plot(high_prices, color='hotpink')\n",
        "\n",
        "plt.title(\"Cara's Plot of the Historically Highest Stock Prices Over the Last 5 Days\")\n",
        "plt.xlabel(\"Day\")\n",
        "plt.ylabel(\"Highest Price ($)\")\n",
        "plt.xticks(rotation=-45, ha='left')\n",
        "plt.show()"
      ],
      "metadata": {
        "colab": {
          "base_uri": "https://localhost:8080/",
          "height": 560
        },
        "id": "6H-MUEKQRVye",
        "outputId": "e04b84dc-24bc-4152-d773-57e789c19688"
      },
      "execution_count": 41,
      "outputs": [
        {
          "name": "stdout",
          "output_type": "stream",
          "text": [
            "AAPL\n"
          ]
        },
        {
          "output_type": "stream",
          "name": "stderr",
          "text": [
            "\r[*********************100%***********************]  1 of 1 completed\n"
          ]
        },
        {
          "output_type": "display_data",
          "data": {
            "text/plain": [
              "<Figure size 640x480 with 1 Axes>"
            ],
            "image/png": "[encoded data removed]"
          },
          "metadata": {}
        }
      ]
    }
  ]
}