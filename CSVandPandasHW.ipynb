{
  "nbformat": 4,
  "nbformat_minor": 0,
  "metadata": {
    "colab": {
      "provenance": [],
      "authorship_tag": "ABX9TyNoGyamZ+0mQJgibHC2Op9t",
      "include_colab_link": true
    },
    "kernelspec": {
      "name": "python3",
      "display_name": "Python 3"
    },
    "language_info": {
      "name": "python"
    }
  },
  "cells": [
    {
      "cell_type": "markdown",
      "metadata": {
        "id": "view-in-github",
        "colab_type": "text"
      },
      "source": [
        "<a href=\"https://colab.research.google.com/github/carascott/skills-introduction-to-github/blob/main/CSVandPandasHW.ipynb\" target=\"_parent\"><img src=\"https://colab.research.google.com/assets/colab-badge.svg\" alt=\"Open In Colab\"/></a>"
      ]
    },
    {
      "cell_type": "code",
      "execution_count": 16,
      "metadata": {
        "id": "j_vcnTA1lQrM"
      },
      "outputs": [],
      "source": [
        "import pandas as pd\n",
        "\n",
        "acc =  pd.read_csv('/content/acc_players-2324F.csv')"
      ]
    },
    {
      "cell_type": "code",
      "source": [
        "#1\n",
        "headers = acc.iloc[0]\n",
        "acc = acc[1:]\n",
        "acc.columns = headers\n",
        "acc.head()"
      ],
      "metadata": {
        "colab": {
          "base_uri": "https://localhost:8080/",
          "height": 236
        },
        "id": "YiQjSOz1llT_",
        "outputId": "4e8230d8-cae6-4975-ad82-cecf023988df"
      },
      "execution_count": 17,
      "outputs": [
        {
          "output_type": "execute_result",
          "data": {
            "text/plain": [
              "0 Rk         Player Class Pos          School   G   MP  TRB AST STL  ... TOV  \\\n",
              "1  1   Amaree Abram    SO   G    Georgia Tech  10  108   17  11   1  ...   9   \n",
              "2  2   Sola Adebisi    FR   F   Florida State   7    9    1   1   0  ...   1   \n",
              "3  3  Prince Aligbe    SO   F  Boston College  35  651  119  21  15  ...  30   \n",
              "4  4     Abe Atiyeh    SR   G  Boston College   4    6    0   0   0  ...   1   \n",
              "5  5    Zack Austin    JR   F      Pittsburgh  33  746  137  29  32  ...  13   \n",
              "\n",
              "0  PF  PTS    FG%    2P%    3P%    FT%  PER    WS   BPM  \n",
              "1  10   34  0.262  0.318    0.2  0.615  4.1  -0.1  -6.4  \n",
              "2   1    2    0.5    0.5    NaN    NaN  3.5     0  -6.7  \n",
              "3  51  164  0.435  0.522  0.147   0.62  9.4   0.9  -1.3  \n",
              "4   0    3  0.333      0      1    NaN  1.1     0  -8.2  \n",
              "5  35  216  0.417  0.563  0.295  0.737   18   2.9   7.9  \n",
              "\n",
              "[5 rows x 21 columns]"
            ],
            "text/html": [
              "\n",
              "  <div id=\"df-5ec2b16f-a381-4d0a-a86b-0abcf18ba4fb\" class=\"colab-df-container\">\n",
              "    <div>\n",
              "<style scoped>\n",
              "    .dataframe tbody tr th:only-of-type {\n",
              "        vertical-align: middle;\n",
              "    }\n",
              "\n",
              "    .dataframe tbody tr th {\n",
              "        vertical-align: top;\n",
              "    }\n",
              "\n",
              "    .dataframe thead th {\n",
              "        text-align: right;\n",
              "    }\n",
              "</style>\n",
              "<table border=\"1\" class=\"dataframe\">\n",
              "  <thead>\n",
              "    <tr style=\"text-align: right;\">\n",
              "      <th></th>\n",
              "      <th>Rk</th>\n",
              "      <th>Player</th>\n",
              "      <th>Class</th>\n",
              "      <th>Pos</th>\n",
              "      <th>School</th>\n",
              "      <th>G</th>\n",
              "      <th>MP</th>\n",
              "      <th>TRB</th>\n",
              "      <th>AST</th>\n",
              "      <th>STL</th>\n",
              "      <th>...</th>\n",
              "      <th>TOV</th>\n",
              "      <th>PF</th>\n",
              "      <th>PTS</th>\n",
              "      <th>FG%</th>\n",
              "      <th>2P%</th>\n",
              "      <th>3P%</th>\n",
              "      <th>FT%</th>\n",
              "      <th>PER</th>\n",
              "      <th>WS</th>\n",
              "      <th>BPM</th>\n",
              "    </tr>\n",
              "  </thead>\n",
              "  <tbody>\n",
              "    <tr>\n",
              "      <th>1</th>\n",
              "      <td>1</td>\n",
              "      <td>Amaree Abram</td>\n",
              "      <td>SO</td>\n",
              "      <td>G</td>\n",
              "      <td>Georgia Tech</td>\n",
              "      <td>10</td>\n",
              "      <td>108</td>\n",
              "      <td>17</td>\n",
              "      <td>11</td>\n",
              "      <td>1</td>\n",
              "      <td>...</td>\n",
              "      <td>9</td>\n",
              "      <td>10</td>\n",
              "      <td>34</td>\n",
              "      <td>0.262</td>\n",
              "      <td>0.318</td>\n",
              "      <td>0.2</td>\n",
              "      <td>0.615</td>\n",
              "      <td>4.1</td>\n",
              "      <td>-0.1</td>\n",
              "      <td>-6.4</td>\n",
              "    </tr>\n",
              "    <tr>\n",
              "      <th>2</th>\n",
              "      <td>2</td>\n",
              "      <td>Sola Adebisi</td>\n",
              "      <td>FR</td>\n",
              "      <td>F</td>\n",
              "      <td>Florida State</td>\n",
              "      <td>7</td>\n",
              "      <td>9</td>\n",
              "      <td>1</td>\n",
              "      <td>1</td>\n",
              "      <td>0</td>\n",
              "      <td>...</td>\n",
              "      <td>1</td>\n",
              "      <td>1</td>\n",
              "      <td>2</td>\n",
              "      <td>0.5</td>\n",
              "      <td>0.5</td>\n",
              "      <td>NaN</td>\n",
              "      <td>NaN</td>\n",
              "      <td>3.5</td>\n",
              "      <td>0</td>\n",
              "      <td>-6.7</td>\n",
              "    </tr>\n",
              "    <tr>\n",
              "      <th>3</th>\n",
              "      <td>3</td>\n",
              "      <td>Prince Aligbe</td>\n",
              "      <td>SO</td>\n",
              "      <td>F</td>\n",
              "      <td>Boston College</td>\n",
              "      <td>35</td>\n",
              "      <td>651</td>\n",
              "      <td>119</td>\n",
              "      <td>21</td>\n",
              "      <td>15</td>\n",
              "      <td>...</td>\n",
              "      <td>30</td>\n",
              "      <td>51</td>\n",
              "      <td>164</td>\n",
              "      <td>0.435</td>\n",
              "      <td>0.522</td>\n",
              "      <td>0.147</td>\n",
              "      <td>0.62</td>\n",
              "      <td>9.4</td>\n",
              "      <td>0.9</td>\n",
              "      <td>-1.3</td>\n",
              "    </tr>\n",
              "    <tr>\n",
              "      <th>4</th>\n",
              "      <td>4</td>\n",
              "      <td>Abe Atiyeh</td>\n",
              "      <td>SR</td>\n",
              "      <td>G</td>\n",
              "      <td>Boston College</td>\n",
              "      <td>4</td>\n",
              "      <td>6</td>\n",
              "      <td>0</td>\n",
              "      <td>0</td>\n",
              "      <td>0</td>\n",
              "      <td>...</td>\n",
              "      <td>1</td>\n",
              "      <td>0</td>\n",
              "      <td>3</td>\n",
              "      <td>0.333</td>\n",
              "      <td>0</td>\n",
              "      <td>1</td>\n",
              "      <td>NaN</td>\n",
              "      <td>1.1</td>\n",
              "      <td>0</td>\n",
              "      <td>-8.2</td>\n",
              "    </tr>\n",
              "    <tr>\n",
              "      <th>5</th>\n",
              "      <td>5</td>\n",
              "      <td>Zack Austin</td>\n",
              "      <td>JR</td>\n",
              "      <td>F</td>\n",
              "      <td>Pittsburgh</td>\n",
              "      <td>33</td>\n",
              "      <td>746</td>\n",
              "      <td>137</td>\n",
              "      <td>29</td>\n",
              "      <td>32</td>\n",
              "      <td>...</td>\n",
              "      <td>13</td>\n",
              "      <td>35</td>\n",
              "      <td>216</td>\n",
              "      <td>0.417</td>\n",
              "      <td>0.563</td>\n",
              "      <td>0.295</td>\n",
              "      <td>0.737</td>\n",
              "      <td>18</td>\n",
              "      <td>2.9</td>\n",
              "      <td>7.9</td>\n",
              "    </tr>\n",
              "  </tbody>\n",
              "</table>\n",
              "<p>5 rows × 21 columns</p>\n",
              "</div>\n",
              "    <div class=\"colab-df-buttons\">\n",
              "\n",
              "  <div class=\"colab-df-container\">\n",
              "    <button class=\"colab-df-convert\" onclick=\"convertToInteractive('df-5ec2b16f-a381-4d0a-a86b-0abcf18ba4fb')\"\n",
              "            title=\"Convert this dataframe to an interactive table.\"\n",
              "            style=\"display:none;\">\n",
              "\n",
              "  <svg xmlns=\"http://www.w3.org/2000/svg\" height=\"24px\" viewBox=\"0 -960 960 960\">\n",
              "    <path d=\"M120-120v-720h720v720H120Zm60-500h600v-160H180v160Zm220 220h160v-160H400v160Zm0 220h160v-160H400v160ZM180-400h160v-160H180v160Zm440 0h160v-160H620v160ZM180-180h160v-160H180v160Zm440 0h160v-160H620v160Z\"/>\n",
              "  </svg>\n",
              "    </button>\n",
              "\n",
              "  <style>\n",
              "    .colab-df-container {\n",
              "      display:flex;\n",
              "      gap: 12px;\n",
              "    }\n",
              "\n",
              "    .colab-df-convert {\n",
              "      background-color: #E8F0FE;\n",
              "      border: none;\n",
              "      border-radius: 50%;\n",
              "      cursor: pointer;\n",
              "      display: none;\n",
              "      fill: #1967D2;\n",
              "      height: 32px;\n",
              "      padding: 0 0 0 0;\n",
              "      width: 32px;\n",
              "    }\n",
              "\n",
              "    .colab-df-convert:hover {\n",
              "      background-color: #E2EBFA;\n",
              "      box-shadow: 0px 1px 2px rgba(60, 64, 67, 0.3), 0px 1px 3px 1px rgba(60, 64, 67, 0.15);\n",
              "      fill: #174EA6;\n",
              "    }\n",
              "\n",
              "    .colab-df-buttons div {\n",
              "      margin-bottom: 4px;\n",
              "    }\n",
              "\n",
              "    [theme=dark] .colab-df-convert {\n",
              "      background-color: #3B4455;\n",
              "      fill: #D2E3FC;\n",
              "    }\n",
              "\n",
              "    [theme=dark] .colab-df-convert:hover {\n",
              "      background-color: #434B5C;\n",
              "      box-shadow: 0px 1px 3px 1px rgba(0, 0, 0, 0.15);\n",
              "      filter: drop-shadow(0px 1px 2px rgba(0, 0, 0, 0.3));\n",
              "      fill: #FFFFFF;\n",
              "    }\n",
              "  </style>\n",
              "\n",
              "    <script>\n",
              "      const buttonEl =\n",
              "        document.querySelector('#df-5ec2b16f-a381-4d0a-a86b-0abcf18ba4fb button.colab-df-convert');\n",
              "      buttonEl.style.display =\n",
              "        google.colab.kernel.accessAllowed ? 'block' : 'none';\n",
              "\n",
              "      async function convertToInteractive(key) {\n",
              "        const element = document.querySelector('#df-5ec2b16f-a381-4d0a-a86b-0abcf18ba4fb');\n",
              "        const dataTable =\n",
              "          await google.colab.kernel.invokeFunction('convertToInteractive',\n",
              "                                                    [key], {});\n",
              "        if (!dataTable) return;\n",
              "\n",
              "        const docLinkHtml = 'Like what you see? Visit the ' +\n",
              "          '<a target=\"_blank\" href=https://colab.research.google.com/notebooks/data_table.ipynb>data table notebook</a>'\n",
              "          + ' to learn more about interactive tables.';\n",
              "        element.innerHTML = '';\n",
              "        dataTable['output_type'] = 'display_data';\n",
              "        await google.colab.output.renderOutput(dataTable, element);\n",
              "        const docLink = document.createElement('div');\n",
              "        docLink.innerHTML = docLinkHtml;\n",
              "        element.appendChild(docLink);\n",
              "      }\n",
              "    </script>\n",
              "  </div>\n",
              "\n",
              "\n",
              "<div id=\"df-10e20037-11cf-4a5d-8393-9b68fae287e9\">\n",
              "  <button class=\"colab-df-quickchart\" onclick=\"quickchart('df-10e20037-11cf-4a5d-8393-9b68fae287e9')\"\n",
              "            title=\"Suggest charts\"\n",
              "            style=\"display:none;\">\n",
              "\n",
              "<svg xmlns=\"http://www.w3.org/2000/svg\" height=\"24px\"viewBox=\"0 0 24 24\"\n",
              "     width=\"24px\">\n",
              "    <g>\n",
              "        <path d=\"M19 3H5c-1.1 0-2 .9-2 2v14c0 1.1.9 2 2 2h14c1.1 0 2-.9 2-2V5c0-1.1-.9-2-2-2zM9 17H7v-7h2v7zm4 0h-2V7h2v10zm4 0h-2v-4h2v4z\"/>\n",
              "    </g>\n",
              "</svg>\n",
              "  </button>\n",
              "\n",
              "<style>\n",
              "  .colab-df-quickchart {\n",
              "      --bg-color: #E8F0FE;\n",
              "      --fill-color: #1967D2;\n",
              "      --hover-bg-color: #E2EBFA;\n",
              "      --hover-fill-color: #174EA6;\n",
              "      --disabled-fill-color: #AAA;\n",
              "      --disabled-bg-color: #DDD;\n",
              "  }\n",
              "\n",
              "  [theme=dark] .colab-df-quickchart {\n",
              "      --bg-color: #3B4455;\n",
              "      --fill-color: #D2E3FC;\n",
              "      --hover-bg-color: #434B5C;\n",
              "      --hover-fill-color: #FFFFFF;\n",
              "      --disabled-bg-color: #3B4455;\n",
              "      --disabled-fill-color: #666;\n",
              "  }\n",
              "\n",
              "  .colab-df-quickchart {\n",
              "    background-color: var(--bg-color);\n",
              "    border: none;\n",
              "    border-radius: 50%;\n",
              "    cursor: pointer;\n",
              "    display: none;\n",
              "    fill: var(--fill-color);\n",
              "    height: 32px;\n",
              "    padding: 0;\n",
              "    width: 32px;\n",
              "  }\n",
              "\n",
              "  .colab-df-quickchart:hover {\n",
              "    background-color: var(--hover-bg-color);\n",
              "    box-shadow: 0 1px 2px rgba(60, 64, 67, 0.3), 0 1px 3px 1px rgba(60, 64, 67, 0.15);\n",
              "    fill: var(--button-hover-fill-color);\n",
              "  }\n",
              "\n",
              "  .colab-df-quickchart-complete:disabled,\n",
              "  .colab-df-quickchart-complete:disabled:hover {\n",
              "    background-color: var(--disabled-bg-color);\n",
              "    fill: var(--disabled-fill-color);\n",
              "    box-shadow: none;\n",
              "  }\n",
              "\n",
              "  .colab-df-spinner {\n",
              "    border: 2px solid var(--fill-color);\n",
              "    border-color: transparent;\n",
              "    border-bottom-color: var(--fill-color);\n",
              "    animation:\n",
              "      spin 1s steps(1) infinite;\n",
              "  }\n",
              "\n",
              "  @keyframes spin {\n",
              "    0% {\n",
              "      border-color: transparent;\n",
              "      border-bottom-color: var(--fill-color);\n",
              "      border-left-color: var(--fill-color);\n",
              "    }\n",
              "    20% {\n",
              "      border-color: transparent;\n",
              "      border-left-color: var(--fill-color);\n",
              "      border-top-color: var(--fill-color);\n",
              "    }\n",
              "    30% {\n",
              "      border-color: transparent;\n",
              "      border-left-color: var(--fill-color);\n",
              "      border-top-color: var(--fill-color);\n",
              "      border-right-color: var(--fill-color);\n",
              "    }\n",
              "    40% {\n",
              "      border-color: transparent;\n",
              "      border-right-color: var(--fill-color);\n",
              "      border-top-color: var(--fill-color);\n",
              "    }\n",
              "    60% {\n",
              "      border-color: transparent;\n",
              "      border-right-color: var(--fill-color);\n",
              "    }\n",
              "    80% {\n",
              "      border-color: transparent;\n",
              "      border-right-color: var(--fill-color);\n",
              "      border-bottom-color: var(--fill-color);\n",
              "    }\n",
              "    90% {\n",
              "      border-color: transparent;\n",
              "      border-bottom-color: var(--fill-color);\n",
              "    }\n",
              "  }\n",
              "</style>\n",
              "\n",
              "  <script>\n",
              "    async function quickchart(key) {\n",
              "      const quickchartButtonEl =\n",
              "        document.querySelector('#' + key + ' button');\n",
              "      quickchartButtonEl.disabled = true;  // To prevent multiple clicks.\n",
              "      quickchartButtonEl.classList.add('colab-df-spinner');\n",
              "      try {\n",
              "        const charts = await google.colab.kernel.invokeFunction(\n",
              "            'suggestCharts', [key], {});\n",
              "      } catch (error) {\n",
              "        console.error('Error during call to suggestCharts:', error);\n",
              "      }\n",
              "      quickchartButtonEl.classList.remove('colab-df-spinner');\n",
              "      quickchartButtonEl.classList.add('colab-df-quickchart-complete');\n",
              "    }\n",
              "    (() => {\n",
              "      let quickchartButtonEl =\n",
              "        document.querySelector('#df-10e20037-11cf-4a5d-8393-9b68fae287e9 button');\n",
              "      quickchartButtonEl.style.display =\n",
              "        google.colab.kernel.accessAllowed ? 'block' : 'none';\n",
              "    })();\n",
              "  </script>\n",
              "</div>\n",
              "\n",
              "    </div>\n",
              "  </div>\n"
            ],
            "application/vnd.google.colaboratory.intrinsic+json": {
              "type": "dataframe",
              "variable_name": "acc"
            }
          },
          "metadata": {},
          "execution_count": 17
        }
      ]
    },
    {
      "cell_type": "code",
      "source": [
        "#2\n",
        "total_points = acc['PTS'].astype(int).sum()\n",
        "print(f\"Total points scored by all players: {total_points}\")"
      ],
      "metadata": {
        "colab": {
          "base_uri": "https://localhost:8080/"
        },
        "id": "8_Ky0sbMlwbb",
        "outputId": "e5859d88-0d9f-4e1b-f405-172d737e9e37"
      },
      "execution_count": 18,
      "outputs": [
        {
          "output_type": "stream",
          "name": "stdout",
          "text": [
            "Total points scored by all players: 38411\n"
          ]
        }
      ]
    },
    {
      "cell_type": "code",
      "source": [
        "maxMP = acc['MP'].astype(int).max()\n",
        "print(f\"Maximum minutes played by a player: {maxMP}\")"
      ],
      "metadata": {
        "colab": {
          "base_uri": "https://localhost:8080/"
        },
        "id": "HI1NMl7LpwKx",
        "outputId": "fe352cef-eac5-43f2-b5ff-721e5beddc0e"
      },
      "execution_count": 20,
      "outputs": [
        {
          "output_type": "stream",
          "name": "stdout",
          "text": [
            "Maximum minutes played by a player: 1333\n"
          ]
        }
      ]
    },
    {
      "cell_type": "code",
      "source": [
        "acc['TRB'] = acc['TRB'].astype(int)\n",
        "TRB = acc.sort_values('TRB', ascending=False)\n",
        "TRB5 = TRB.head(5)\n",
        "\n",
        "print(\"Top 5 players in terms of total rebounds:\")\n",
        "print(TRB5[['Player', 'TRB']])"
      ],
      "metadata": {
        "colab": {
          "base_uri": "https://localhost:8080/"
        },
        "id": "dHO4jYJQp_Sf",
        "outputId": "da3c69ac-8dca-47ac-e803-33fd5a34c486"
      },
      "execution_count": 22,
      "outputs": [
        {
          "output_type": "stream",
          "name": "stdout",
          "text": [
            "Top 5 players in terms of total rebounds:\n",
            "0             Player  TRB\n",
            "6      Armando Bacot  380\n",
            "179  Ian Schieffelin  340\n",
            "91   Harrison Ingram  327\n",
            "45    Mohamed Diarra  311\n",
            "150    Norchad Omier  309\n"
          ]
        }
      ]
    },
    {
      "cell_type": "code",
      "source": [
        "# 3\n",
        "acc['MP'] = acc['MP'].astype(int)\n",
        "min500plus = acc[acc['MP'] > 500]\n",
        "print(min500plus)"
      ],
      "metadata": {
        "colab": {
          "base_uri": "https://localhost:8080/"
        },
        "id": "_CP0KsS_q0aw",
        "outputId": "6a0fb990-adae-4be0-ca06-bdce78615342"
      },
      "execution_count": 24,
      "outputs": [
        {
          "output_type": "stream",
          "name": "stdout",
          "text": [
            "0     Rk            Player Class Pos          School   G    MP  TRB  AST STL  \\\n",
            "3      3     Prince Aligbe    SO   F  Boston College  35   651  119   21  15   \n",
            "5      5       Zack Austin    JR   F      Pittsburgh  33   746  137   29  32   \n",
            "6      6     Armando Bacot    SR   F  North Carolina  37  1123  380   56  22   \n",
            "8      8     Reece Beekman    SR   G        Virginia  34  1114  124  212  68   \n",
            "10    10        Chris Bell    SO   F        Syracuse  32   865   75   21  18   \n",
            "..   ...               ...   ...  ..             ...  ..   ...  ...  ...  ..   \n",
            "204  204     Jamir Watkins    JR   F   Florida State  33   928  199   91  64   \n",
            "207  207         Tre White    SO   G      Louisville  29   907  170   39  24   \n",
            "208  208  Chauncey Wiggins    SO   F         Clemson  36   639   76   33   6   \n",
            "210  210   Curtis Williams    FR   G      Louisville  32   564   42   20  12   \n",
            "216  216    Jaeden Zackery    JR   G  Boston College  36  1216  119  152  63   \n",
            "\n",
            "0    ... TOV   PF  PTS    FG%    2P%    3P%    FT%   PER    WS   BPM  \n",
            "3    ...  30   51  164  0.435  0.522  0.147   0.62   9.4   0.9  -1.3  \n",
            "5    ...  13   35  216  0.417  0.563  0.295  0.737    18   2.9   7.9  \n",
            "6    ...  60  100  538   0.54  0.544    0.4  0.781  24.6   6.1   8.9  \n",
            "8    ...  70   43  486  0.443  0.487   0.31  0.754  23.4   4.9  10.5  \n",
            "10   ...  26   58  384  0.434  0.459   0.42  0.842  14.9   2.2   3.3  \n",
            "..   ...  ..  ...  ...    ...    ...    ...    ...   ...   ...   ...  \n",
            "204  ...  84   92  514  0.457    0.5  0.344  0.795  24.2   3.9   9.1  \n",
            "207  ...  53   66  357  0.456  0.515  0.299  0.752    15   1.7   1.8  \n",
            "208  ...  26   46  196  0.442  0.528  0.349  0.714    11   1.2   1.9  \n",
            "210  ...  26   24  170  0.317  0.373  0.287  0.714   5.9  -0.2  -3.8  \n",
            "216  ...  71   78  408  0.484  0.511  0.405  0.824  16.4   3.7   3.5  \n",
            "\n",
            "[98 rows x 21 columns]\n"
          ]
        }
      ]
    },
    {
      "cell_type": "code",
      "source": [
        "min500plus.loc[:, 'AST'] = min500plus['AST'].astype(int)\n",
        "highestAST = min500plus.loc[min500plus['AST'].idxmax()]\n",
        "print(f\"The player with the highest total assists: {highestAST['Player']}\")"
      ],
      "metadata": {
        "colab": {
          "base_uri": "https://localhost:8080/"
        },
        "id": "gQwPrUvLsXOE",
        "outputId": "6bd283fa-7f03-4677-d83d-fe47b3aef213"
      },
      "execution_count": 28,
      "outputs": [
        {
          "output_type": "stream",
          "name": "stdout",
          "text": [
            "The player with the highest total assists: Reece Beekman\n"
          ]
        }
      ]
    },
    {
      "cell_type": "code",
      "source": [
        "ASTleaders = min500plus.sort_values('AST', ascending=False).head(3)\n",
        "print(\"Top 3 Assist Leaders:\")\n",
        "print(ASTleaders[['Player', 'AST']])"
      ],
      "metadata": {
        "colab": {
          "base_uri": "https://localhost:8080/"
        },
        "id": "OV20UQ-4s4sh",
        "outputId": "a4fdd861-6201-44d6-b2a7-3dcf29865008"
      },
      "execution_count": 31,
      "outputs": [
        {
          "output_type": "stream",
          "name": "stdout",
          "text": [
            "Top 3 Assist Leaders:\n",
            "0            Player  AST\n",
            "8     Reece Beekman  212\n",
            "216  Jaeden Zackery  152\n",
            "22    Elliot Cadeau  150\n"
          ]
        }
      ]
    },
    {
      "cell_type": "code",
      "source": [
        "sbtop3 = min500plus.sort_values('BLK', ascending=False).head(3)\n",
        "print(\"Top 3 Shot Blockers:\")\n",
        "print(sbtop3[['Player', 'BLK']])"
      ],
      "metadata": {
        "colab": {
          "base_uri": "https://localhost:8080/"
        },
        "id": "u5IUVftBt1wk",
        "outputId": "1ca19e71-b085-44c9-bf86-e379134a1ae2"
      },
      "execution_count": 34,
      "outputs": [
        {
          "output_type": "stream",
          "name": "stdout",
          "text": [
            "Top 3 Shot Blockers:\n",
            "0             Player BLK\n",
            "157     Wooga Poplar   9\n",
            "116     Mason Madsen   8\n",
            "96   Ty-Laur Johnson   8\n"
          ]
        }
      ]
    },
    {
      "cell_type": "code",
      "source": [
        "# 4 (going back to main data set)\n",
        "acc['PTS'] = acc['PTS'].astype(int)\n",
        "schoolTP = acc.groupby('School')['PTS'].sum().sort_values(ascending=False)\n",
        "print(\"Total points scored by each school:\")\n",
        "print(schoolTP)"
      ],
      "metadata": {
        "colab": {
          "base_uri": "https://localhost:8080/"
        },
        "id": "2jioUNKZuVev",
        "outputId": "0cfa0f7c-c66f-455e-da11-db200fb5d391"
      },
      "execution_count": 36,
      "outputs": [
        {
          "output_type": "stream",
          "name": "stdout",
          "text": [
            "Total points scored by each school:\n",
            "School\n",
            "NC State          3101\n",
            "North Carolina    3032\n",
            "Duke              2830\n",
            "Clemson           2785\n",
            "Wake Forest       2733\n",
            "Boston College    2667\n",
            "Virginia Tech     2547\n",
            "Florida State     2526\n",
            "Pittsburgh        2495\n",
            "Syracuse          2442\n",
            "Miami (FL)        2424\n",
            "Louisville        2304\n",
            "Georgia Tech      2272\n",
            "Virginia          2140\n",
            "Notre Dame        2113\n",
            "Name: PTS, dtype: int64\n"
          ]
        }
      ]
    },
    {
      "cell_type": "code",
      "source": [
        "acc['AST'] = acc['AST'].astype(int)\n",
        "teamAST = acc.groupby('School')['AST'].sum().sort_values(ascending=False)\n",
        "print(\"Total assists for each team:\")\n",
        "print(teamAST)"
      ],
      "metadata": {
        "colab": {
          "base_uri": "https://localhost:8080/"
        },
        "id": "Fy_GQ2NIvPtE",
        "outputId": "af3420e5-eabc-4bb5-8c58-98140ec8e895"
      },
      "execution_count": 41,
      "outputs": [
        {
          "output_type": "stream",
          "name": "stdout",
          "text": [
            "Total assists for each team:\n",
            "School\n",
            "Duke              551\n",
            "NC State          536\n",
            "North Carolina    536\n",
            "Clemson           533\n",
            "Virginia Tech     514\n",
            "Boston College    509\n",
            "Virginia          509\n",
            "Miami (FL)        454\n",
            "Pittsburgh        452\n",
            "Syracuse          442\n",
            "Wake Forest       429\n",
            "Georgia Tech      425\n",
            "Florida State     406\n",
            "Louisville        356\n",
            "Notre Dame        335\n",
            "Name: AST, dtype: int64\n"
          ]
        }
      ]
    },
    {
      "cell_type": "code",
      "source": [
        "print(\"Top 3 Schools with Highest Total Points: \")\n",
        "print(schoolTP.head(3))"
      ],
      "metadata": {
        "colab": {
          "base_uri": "https://localhost:8080/"
        },
        "id": "jI7tlBYsv8cr",
        "outputId": "e81c3f14-a673-429a-ce6c-09c4ed214161"
      },
      "execution_count": 45,
      "outputs": [
        {
          "output_type": "stream",
          "name": "stdout",
          "text": [
            "Top 3 Schools with Highest Total Points: \n",
            "School\n",
            "NC State          3101\n",
            "North Carolina    3032\n",
            "Duke              2830\n",
            "Name: PTS, dtype: int64\n"
          ]
        }
      ]
    },
    {
      "cell_type": "code",
      "source": [
        "# 5: EC\n",
        "import matplotlib.pyplot as plt\n",
        "\n",
        "acc['PTS'] = acc['PTS'].astype(int)\n",
        "PTS = acc.sort_values('PTS', ascending=False)\n",
        "PTS5 = PTS.head(5)\n",
        "print(PTS5[['Player', 'PTS']])\n",
        "\n",
        "plt.figure(figsize=(10, 6))\n",
        "plt.bar(PTS5['Player'], PTS5['PTS'], color='hotpink')\n",
        "plt.title('Top 5 Players by Total Points Scored')\n",
        "plt.xlabel('Player')\n",
        "plt.ylabel('Total Points Scored')\n",
        "plt.show()"
      ],
      "metadata": {
        "colab": {
          "base_uri": "https://localhost:8080/",
          "height": 671
        },
        "id": "mV3dMcZ4wesY",
        "outputId": "cdb0112a-b03b-456c-ee10-2cfd5bbb0301"
      },
      "execution_count": 50,
      "outputs": [
        {
          "output_type": "stream",
          "name": "stdout",
          "text": [
            "0           Player  PTS\n",
            "43        RJ Davis  784\n",
            "82        DJ Horne  677\n",
            "71         PJ Hall  659\n",
            "176  Hunter Sallis  613\n",
            "81    Blake Hinson  609\n"
          ]
        },
        {
          "output_type": "display_data",
          "data": {
            "text/plain": [
              "<Figure size 1000x600 with 1 Axes>"
            ],
            "image/png": "[encoded data removed]"
          },
          "metadata": {}
        }
      ]
    },
    {
      "cell_type": "code",
      "source": [
        "acc['FG%'] = pd.to_numeric(acc['FG%'], errors='coerce')\n",
        "acc['WS'] = pd.to_numeric(acc['WS'], errors='coerce')\n",
        "\n",
        "plt.figure(figsize=(10, 6))\n",
        "plt.scatter(acc['FG%'], acc['WS'], color=\"darkgreen\")\n",
        "plt.title('Correlation coefficient between Players Field Goal Percentage and Their Win Shares')\n",
        "plt.xlabel('Field Goal Percentage')\n",
        "plt.ylabel('Win Shares')\n",
        "plt.show()\n",
        "\n",
        "CC = acc['FG%'].corr(acc['WS'])\n",
        "print(f\"Correlation coefficient between Player's Field Goal Percentage and Their Win Shares: {CC}\")"
      ],
      "metadata": {
        "colab": {
          "base_uri": "https://localhost:8080/",
          "height": 582
        },
        "id": "dr47_pGtx0Ix",
        "outputId": "56b8d613-48ef-4539-b2b8-57275283cbb2"
      },
      "execution_count": 56,
      "outputs": [
        {
          "output_type": "display_data",
          "data": {
            "text/plain": [
              "<Figure size 1000x600 with 1 Axes>"
            ],
            "image/png": "[encoded data removed]"
          },
          "metadata": {}
        },
        {
          "output_type": "stream",
          "name": "stdout",
          "text": [
            "Correlation coefficient between Player's Field Goal Percentage and Their Win Shares: 0.4210663894199787\n"
          ]
        }
      ]
    },
    {
      "cell_type": "markdown",
      "source": [
        "What did you learn about working with CSV files and pandas DataFrames in\n",
        "this assignment?\n",
        "\n",
        "I learned that pandas DataFrames is an easy way to quickly and simply summarize\n",
        "mathematical information. I don't have to add up all of these values myself, nor do I have to list out the results either. I can write a few lines of code\n",
        "and pandas will find the information I want and print it out."
      ],
      "metadata": {
        "id": "xF9xZxU4yuwR"
      }
    },
    {
      "cell_type": "markdown",
      "source": [
        "What was the most challenging aspect of this assignment, and how did you\n",
        "overcome it?\n",
        "\n",
        "A challenging aspect of this assignment were the column names. When I first read in the csv, the first row in the data frame contained the column names. To fix this so that I was able to evaluate the data, I used iloc and changed the start of the data to be row 1, not 0, while keeping the data from the initial row to be used as the headers."
      ],
      "metadata": {
        "id": "7L8Znx4vyxlY"
      }
    },
    {
      "cell_type": "markdown",
      "source": [
        "How do you think the insights gained from analyzing ACC basketball statistics\n",
        "could be applied to other real-world datasets?\n",
        "\n",
        "These tactics could be used for environmental data sets (my major) to evaluate\n",
        "the total precipitation in a year, and filter by region to determine which areas receive the highest and lowest rainfall. Other real-world datasets could include employee data at a sales job. An employer may want to see the best and worst employees by analyzing and sorting them according to their sales numbers. Graphs could be used in a team meeting to show the correlation between 2 variables, for example, the time spent on sales calls and the total amount of sales. If this relationship were positive, an employer could encourage their employees to spend more time on sales calls to reach their company sales goals. There are endless appplications of this type of data analysis for other real-world datasets."
      ],
      "metadata": {
        "id": "1afThjZ_yzRs"
      }
    }
  ]
}