{
  "nbformat": 4,
  "nbformat_minor": 0,
  "metadata": {
    "colab": {
      "provenance": [],
      "authorship_tag": "ABX9TyNlH40MizrLY7ZV/DobIR76",
      "include_colab_link": true
    },
    "kernelspec": {
      "name": "python3",
      "display_name": "Python 3"
    },
    "language_info": {
      "name": "python"
    }
  },
  "cells": [
    {
      "cell_type": "markdown",
      "metadata": {
        "id": "view-in-github",
        "colab_type": "text"
      },
      "source": [
        "<a href=\"https://colab.research.google.com/github/carascott/skills-introduction-to-github/blob/main/DataProject1.ipynb\" target=\"_parent\"><img src=\"https://colab.research.google.com/assets/colab-badge.svg\" alt=\"Open In Colab\"/></a>"
      ]
    },
    {
      "cell_type": "code",
      "execution_count": 13,
      "metadata": {
        "id": "M8tjkpDwX1VY"
      },
      "outputs": [],
      "source": [
        "# Fetching/downloading data as a csv file\n",
        "import pandas as pd\n",
        "import requests\n",
        "import json\n",
        "import sqlite3\n",
        "\n",
        "# https://opendata.charlottesville.org/datasets/304f8e27f2ca44aa989d58846db56b38_24/explore\n",
        "\n",
        "df = pd.read_csv('/content/WaterUsageCville.csv')\n",
        "#print(df.head())"
      ]
    },
    {
      "cell_type": "code",
      "source": [
        "# Allowing user to convert from csv to either JSON or SQL\n",
        "\n",
        "file_type = input(\"Enter desired file type (sql or json): \")\n",
        "\n",
        "if file_type.lower() == \"json\":\n",
        "  # Convert to JSON\n",
        "  json_data = df.to_json(orient='records')\n",
        "  print(\"Data converted to JSON\")\n",
        "\n",
        "elif file_type.lower() == \"sql\":\n",
        "  # Convert to SQL\n",
        "  conn = sqlite3.connect('water_usage.db')\n",
        "  df.to_sql('water_usage_table', conn, if_exists='replace', index=False)\n",
        "  conn.close()\n",
        "  print(\"Data converted to SQLite database (water_usage.db)\")\n",
        "\n",
        "else:\n",
        "  print(\"Invalid file type specified.\")"
      ],
      "metadata": {
        "colab": {
          "base_uri": "https://localhost:8080/"
        },
        "id": "ZxEpcOEjfRhp",
        "outputId": "0c47d2f2-bd17-4b58-bb4a-e5b8174b4f94"
      },
      "execution_count": 20,
      "outputs": [
        {
          "output_type": "stream",
          "name": "stdout",
          "text": [
            "Enter desired file type (sql or json): json\n",
            "Data converted to JSON\n"
          ]
        }
      ]
    },
    {
      "cell_type": "code",
      "source": [
        "# Converting csv file to json\n",
        "\n",
        "json_data = df.to_json(orient='records')\n",
        "print(json_data)\n",
        "print(\"CSV data successfully converted to JSON\")"
      ],
      "metadata": {
        "colab": {
          "base_uri": "https://localhost:8080/"
        },
        "id": "soAnxHnGbJVq",
        "outputId": "52498020-e745-4178-fbbe-607d06188d10"
      },
      "execution_count": 12,
      "outputs": [
        {
          "output_type": "stream",
          "name": "stdout",
          "text": [
            "[{\"UtilityConsumptionID\":1,\"Neighborhood\":\"North Downtown\",\"June2018\":1483572,\"July2018\":1383526,\"August2018\":1447082,\"September2018\":1674497,\"October2018\":1206079,\"November2018\":1406674,\"December2018\":1278349,\"January2019\":1127121,\"February2019\":1152809,\"March2019\":1042641,\"April2019\":1260530},{\"UtilityConsumptionID\":2,\"Neighborhood\":\"Martha Jefferson\",\"June2018\":515021,\"July2018\":528651,\"August2018\":518084,\"September2018\":575989,\"October2018\":458728,\"November2018\":538587,\"December2018\":505504,\"January2019\":438123,\"February2019\":482170,\"March2019\":438866,\"April2019\":474798},{\"UtilityConsumptionID\":3,\"Neighborhood\":\"Woolen Mills\",\"June2018\":253210,\"July2018\":274249,\"August2018\":272838,\"September2018\":280603,\"October2018\":218916,\"November2018\":240953,\"December2018\":237290,\"January2019\":221760,\"February2019\":206131,\"March2019\":191738,\"April2019\":208625},{\"UtilityConsumptionID\":4,\"Neighborhood\":\"Locust Grove\",\"June2018\":516853,\"July2018\":489506,\"August2018\":520905,\"September2018\":541363,\"October2018\":413531,\"November2018\":474741,\"December2018\":492663,\"January2019\":432400,\"February2019\":430947,\"March2019\":409660,\"April2019\":461409},{\"UtilityConsumptionID\":5,\"Neighborhood\":\"Greenbrier\",\"June2018\":461108,\"July2018\":545330,\"August2018\":437904,\"September2018\":487358,\"October2018\":489012,\"November2018\":402648,\"December2018\":429414,\"January2019\":496091,\"February2019\":377719,\"March2019\":388887,\"April2019\":457030},{\"UtilityConsumptionID\":6,\"Neighborhood\":\"The Meadows\",\"June2018\":1640954,\"July2018\":1726824,\"August2018\":1548466,\"September2018\":1588506,\"October2018\":1652834,\"November2018\":1334516,\"December2018\":1567793,\"January2019\":1591684,\"February2019\":1410037,\"March2019\":1416557,\"April2019\":1621375},{\"UtilityConsumptionID\":7,\"Neighborhood\":\"Belmont\",\"June2018\":1223819,\"July2018\":1044926,\"August2018\":934306,\"September2018\":1100964,\"October2018\":945939,\"November2018\":959005,\"December2018\":912971,\"January2019\":1007825,\"February2019\":906314,\"March2019\":871281,\"April2019\":1039942},{\"UtilityConsumptionID\":8,\"Neighborhood\":\"Fifeville\",\"June2018\":830592,\"July2018\":730157,\"August2018\":786154,\"September2018\":902152,\"October2018\":737419,\"November2018\":722648,\"December2018\":682208,\"January2019\":755045,\"February2019\":662612,\"March2019\":641651,\"April2019\":783336},{\"UtilityConsumptionID\":9,\"Neighborhood\":\"Johnson Village\",\"June2018\":341069,\"July2018\":325687,\"August2018\":298150,\"September2018\":357324,\"October2018\":334312,\"November2018\":280759,\"December2018\":258260,\"January2019\":285644,\"February2019\":265997,\"March2019\":248819,\"April2019\":287281},{\"UtilityConsumptionID\":10,\"Neighborhood\":\"Ridge Street\",\"June2018\":621193,\"July2018\":542084,\"August2018\":542347,\"September2018\":620907,\"October2018\":546297,\"November2018\":559674,\"December2018\":547294,\"January2019\":605911,\"February2019\":602790,\"March2019\":520495,\"April2019\":626397},{\"UtilityConsumptionID\":11,\"Neighborhood\":\"Starr Hill\",\"June2018\":216547,\"July2018\":226448,\"August2018\":219493,\"September2018\":247189,\"October2018\":186451,\"November2018\":234765,\"December2018\":238572,\"January2019\":196445,\"February2019\":201471,\"March2019\":159220,\"April2019\":193321},{\"UtilityConsumptionID\":12,\"Neighborhood\":\"Barracks Road\",\"June2018\":308954,\"July2018\":311418,\"August2018\":273287,\"September2018\":292759,\"October2018\":316435,\"November2018\":283744,\"December2018\":280171,\"January2019\":293747,\"February2019\":334648,\"March2019\":233800,\"April2019\":343817},{\"UtilityConsumptionID\":13,\"Neighborhood\":\"Fry's Spring\",\"June2018\":868398,\"July2018\":742514,\"August2018\":731253,\"September2018\":868794,\"October2018\":766657,\"November2018\":755176,\"December2018\":783048,\"January2019\":766340,\"February2019\":731619,\"March2019\":687258,\"April2019\":816724},{\"UtilityConsumptionID\":14,\"Neighborhood\":\"Jefferson Park Avenue\",\"June2018\":681851,\"July2018\":572039,\"August2018\":587226,\"September2018\":788112,\"October2018\":764587,\"November2018\":825646,\"December2018\":868558,\"January2019\":511490,\"February2019\":756034,\"March2019\":766585,\"April2019\":767636},{\"UtilityConsumptionID\":15,\"Neighborhood\":\"Lewis Mountain\",\"June2018\":248751,\"July2018\":195797,\"August2018\":182813,\"September2018\":282688,\"October2018\":257949,\"November2018\":253067,\"December2018\":250422,\"January2019\":169800,\"February2019\":230244,\"March2019\":214449,\"April2019\":234154},{\"UtilityConsumptionID\":16,\"Neighborhood\":\"Venable\",\"June2018\":1477133,\"July2018\":1248477,\"August2018\":1280167,\"September2018\":1733644,\"October2018\":1751115,\"November2018\":1822124,\"December2018\":1870594,\"January2019\":1162119,\"February2019\":1660260,\"March2019\":1718448,\"April2019\":1692772},{\"UtilityConsumptionID\":17,\"Neighborhood\":\"10th & Page\",\"June2018\":597169,\"July2018\":512806,\"August2018\":550439,\"September2018\":801848,\"October2018\":722913,\"November2018\":706353,\"December2018\":771894,\"January2019\":523486,\"February2019\":762048,\"March2019\":703422,\"April2019\":772812},{\"UtilityConsumptionID\":18,\"Neighborhood\":\"Rose Hill\",\"June2018\":448756,\"July2018\":241453,\"August2018\":152734,\"September2018\":151609,\"October2018\":157743,\"November2018\":128180,\"December2018\":155870,\"January2019\":160042,\"February2019\":139811,\"March2019\":132778,\"April2019\":155658},{\"UtilityConsumptionID\":19,\"Neighborhood\":\"Barracks \\/ Rugby\",\"June2018\":546921,\"July2018\":670900,\"August2018\":565805,\"September2018\":573538,\"October2018\":552733,\"November2018\":444578,\"December2018\":449094,\"January2019\":509621,\"February2019\":399633,\"March2019\":415378,\"April2019\":510287}]\n",
            "CSV data successfully converted to JSON\n"
          ]
        }
      ]
    },
    {
      "cell_type": "code",
      "source": [
        "# Printing JSON file\n",
        "with open('WaterUsageCville.json', 'r') as f:\n",
        "    data = json.load(f)\n",
        "\n",
        "for i in range(min(5, len(data))):\n",
        "    print(data[i])"
      ],
      "metadata": {
        "colab": {
          "base_uri": "https://localhost:8080/"
        },
        "id": "y8r4SFSmf6Kn",
        "outputId": "9de53f89-5037-4796-d371-168051dcd62f"
      },
      "execution_count": 21,
      "outputs": [
        {
          "output_type": "stream",
          "name": "stdout",
          "text": [
            "{'UtilityConsumptionID': 1, 'Neighborhood': 'North Downtown', 'June2018': 1483572, 'July2018': 1383526, 'August2018': 1447082, 'September2018': 1674497, 'October2018': 1206079, 'November2018': 1406674, 'December2018': 1278349, 'January2019': 1127121, 'February2019': 1152809, 'March2019': 1042641, 'April2019': 1260530}\n",
            "{'UtilityConsumptionID': 2, 'Neighborhood': 'Martha Jefferson', 'June2018': 515021, 'July2018': 528651, 'August2018': 518084, 'September2018': 575989, 'October2018': 458728, 'November2018': 538587, 'December2018': 505504, 'January2019': 438123, 'February2019': 482170, 'March2019': 438866, 'April2019': 474798}\n",
            "{'UtilityConsumptionID': 3, 'Neighborhood': 'Woolen Mills', 'June2018': 253210, 'July2018': 274249, 'August2018': 272838, 'September2018': 280603, 'October2018': 218916, 'November2018': 240953, 'December2018': 237290, 'January2019': 221760, 'February2019': 206131, 'March2019': 191738, 'April2019': 208625}\n",
            "{'UtilityConsumptionID': 4, 'Neighborhood': 'Locust Grove', 'June2018': 516853, 'July2018': 489506, 'August2018': 520905, 'September2018': 541363, 'October2018': 413531, 'November2018': 474741, 'December2018': 492663, 'January2019': 432400, 'February2019': 430947, 'March2019': 409660, 'April2019': 461409}\n",
            "{'UtilityConsumptionID': 5, 'Neighborhood': 'Greenbrier', 'June2018': 461108, 'July2018': 545330, 'August2018': 437904, 'September2018': 487358, 'October2018': 489012, 'November2018': 402648, 'December2018': 429414, 'January2019': 496091, 'February2019': 377719, 'March2019': 388887, 'April2019': 457030}\n"
          ]
        }
      ]
    },
    {
      "cell_type": "code",
      "source": [
        "# Converting csv to sql database\n",
        "\n",
        "conn = sqlite3.connect('water_usage.db')\n",
        "cursor = conn.cursor()\n",
        "\n",
        "columns = df.columns.tolist()\n",
        "\n",
        "create_table_query = f\"\"\"\n",
        "CREATE TABLE IF NOT EXISTS water_usage_table (\n",
        "    {', '.join([f'{col} TEXT' for col in columns])}\n",
        ")\n",
        "\"\"\"\n",
        "cursor.execute(create_table_query)\n",
        "\n",
        "for index, row in df.iterrows():\n",
        "    placeholders = ', '.join(['?' for _ in columns])\n",
        "    insert_query = f\"INSERT INTO water_usage_table VALUES ({placeholders})\"\n",
        "    cursor.execute(insert_query, tuple(row))\n",
        "\n",
        "conn.commit()\n",
        "conn.close()\n",
        "\n",
        "print(\"CSV data successfully imported into the SQLite database.\")"
      ],
      "metadata": {
        "colab": {
          "base_uri": "https://localhost:8080/"
        },
        "id": "YKCvzadTdoj2",
        "outputId": "29f1eecc-2d49-4b35-c7bf-63183e645401"
      },
      "execution_count": 16,
      "outputs": [
        {
          "output_type": "stream",
          "name": "stdout",
          "text": [
            "CSV data successfully imported into the SQLite database.\n"
          ]
        }
      ]
    },
    {
      "cell_type": "code",
      "source": [
        "# Allow user to input file name and file type, then convert to either json, csv, or sql\n",
        "\n",
        "def convert_file(input_file, input_type, output_type):\n",
        "    try:\n",
        "        if input_type.lower() == \"csv\":\n",
        "            df = pd.read_csv(input_file)\n",
        "        elif input_type.lower() == \"json\":\n",
        "            df = pd.read_json(input_file)\n",
        "        elif input_type.lower() == \"sql\":\n",
        "            conn = sqlite3.connect(input_file)\n",
        "            df = pd.read_sql_query(\"SELECT * FROM water_usage_table\", conn)\n",
        "            conn.close()\n",
        "        else:\n",
        "            print(\"Invalid input file type.\")\n",
        "            return\n",
        "\n",
        "        if output_type.lower() == \"json\":\n",
        "            output_file = input_file.replace(input_file.split(\".\")[-1], \"json\") # change the extension of the input file to json\n",
        "            df.to_json(output_file, orient='records')\n",
        "            print(f\"Data converted to JSON and saved to {output_file}\")\n",
        "        elif output_type.lower() == \"sql\":\n",
        "            output_file = input_file.replace(input_file.split(\".\")[-1], \"db\")  # change the extension of the input file to db\n",
        "            conn = sqlite3.connect(output_file)\n",
        "            df.to_sql('water_usage_table', conn, if_exists='replace', index=False)\n",
        "            conn.close()\n",
        "            print(f\"Data converted to SQLite database and saved to {output_file}\")\n",
        "        elif output_type.lower() == \"csv\":\n",
        "            output_file = input_file.replace(input_file.split(\".\")[-1], \"csv\") # change the extension of the input file to csv\n",
        "            df.to_csv(output_file, index=False)\n",
        "            print(f\"Data converted to CSV and saved to {output_file}\")\n",
        "        else:\n",
        "            print(\"Invalid output file type.\")\n",
        "\n",
        "    except FileNotFoundError:\n",
        "        print(f\"Error: Input file '{input_file}' not found.\")\n",
        "    except Exception as e:\n",
        "        print(f\"An error occurred: {e}\")\n",
        "\n",
        "if __name__ == \"__main__\":\n",
        "    input_file = input(\"Enter the input file name: \")\n",
        "    input_type = input(\"Enter the input file type (csv, json, or sql): \")\n",
        "    output_type = input(\"Enter the desired output file type (csv, json, or sql): \")\n",
        "\n",
        "    convert_file(input_file, input_type, output_type)"
      ],
      "metadata": {
        "colab": {
          "base_uri": "https://localhost:8080/"
        },
        "id": "3ahFGWkpcXmM",
        "outputId": "a31d1bf8-c724-42f9-8129-9e284d9154ab"
      },
      "execution_count": 26,
      "outputs": [
        {
          "output_type": "stream",
          "name": "stdout",
          "text": [
            "Enter the input file name: WaterUsageCville.csv\n",
            "Enter the input file type (csv, json, or sql): csv\n",
            "Enter the desired output file type (csv, json, or sql): json\n",
            "Data converted to JSON and saved to WaterUsageCville.json\n"
          ]
        }
      ]
    },
    {
      "cell_type": "code",
      "source": [
        "# Asking users which file to use, if they want to add or delete a column\n",
        "# (if add: input the new name & add new data, if delete: input the name of the column you want deleted),\n",
        "# ask if they want the new file to be saved, and if yes, write it to sql database regardless of file type used,\n",
        "# finally output the # of records and # of columns of both the original file inputted and the final sql saved\n",
        "\n",
        "def modify_dataframe(file_path):\n",
        "    try:\n",
        "        if file_path.lower().endswith('.csv'):\n",
        "            df_original = pd.read_csv(file_path)\n",
        "        elif file_path.lower().endswith(('.json')):\n",
        "            df_original = pd.read_json(file_path)\n",
        "        elif file_path.lower().endswith(('.db')):\n",
        "            conn = sqlite3.connect(file_path)\n",
        "            df_original = pd.read_sql_query(\"SELECT * FROM water_usage_table\", conn)\n",
        "            conn.close()\n",
        "        else:\n",
        "            print(\"Unsupported file type. Please provide a CSV, JSON, or SQLite database file.\")\n",
        "            return\n",
        "\n",
        "        df = df_original.copy() #create a copy to work with\n",
        "\n",
        "        action = input(\"Do you want to add or delete a column? (add/delete): \").lower()\n",
        "        if action == \"add\":\n",
        "            column_name = input(\"Enter the name of the new column: \")\n",
        "            default_value = input(\"Enter the default value for the new column: \")\n",
        "            df[column_name] = default_value\n",
        "            print(f\"Column '{column_name}' added with default value '{default_value}'\")\n",
        "\n",
        "        elif action == \"delete\":\n",
        "            print(\"Available columns:\")\n",
        "            for col in df.columns:\n",
        "                print(col)\n",
        "            column_to_delete = input(\"Enter the name of the column to delete: \")\n",
        "            if column_to_delete in df.columns:\n",
        "                df = df.drop(column_to_delete, axis=1)\n",
        "                print(f\"Column '{column_to_delete}' deleted successfully.\")\n",
        "            else:\n",
        "                print(f\"Error: Column '{column_to_delete}' not found in the DataFrame.\")\n",
        "\n",
        "        else:\n",
        "            print(\"Invalid action specified. Please enter 'add' or 'delete'.\")\n",
        "\n",
        "        print(\"\\nModified DataFrame:\")\n",
        "        print(df.head())\n",
        "\n",
        "        save_changes = input(\"Do you want to save the changes to the SQL database? (yes/no): \").lower()\n",
        "        if save_changes == \"yes\":\n",
        "            conn = sqlite3.connect('water_usage_modified.db')\n",
        "            df.to_sql('water_usage_table', conn, if_exists='replace', index=False)\n",
        "            conn.close()\n",
        "            print(\"Changes saved to 'water_usage_modified.db'\")\n",
        "\n",
        "        # Outputting the data\n",
        "        print(\"\\nOriginal file:\")\n",
        "        print(\"Number of records:\", len(df_original))\n",
        "        print(\"Number of columns:\", len(df_original.columns))\n",
        "\n",
        "        conn = sqlite3.connect('water_usage_modified.db')\n",
        "        df_sql = pd.read_sql_query(\"SELECT * FROM water_usage_table\", conn)\n",
        "        conn.close()\n",
        "\n",
        "        print(\"\\nFinal SQL database:\")\n",
        "        print(\"Number of records:\", len(df_sql))\n",
        "        print(\"Number of columns:\", len(df_sql.columns))\n",
        "\n",
        "\n",
        "    except FileNotFoundError:\n",
        "        print(f\"Error: File '{file_path}' not found.\")\n",
        "    except Exception as e:\n",
        "        print(f\"An error occurred: {e}\")\n",
        "\n",
        "if __name__ == \"__main__\":\n",
        "    file_name = input(\"Enter the file name (including extension): \")\n",
        "    modify_dataframe(file_name)"
      ],
      "metadata": {
        "colab": {
          "base_uri": "https://localhost:8080/"
        },
        "id": "7zuEe0l4rzH6",
        "outputId": "fef04e91-2723-4104-f7ea-257c14e2cb69"
      },
      "execution_count": 37,
      "outputs": [
        {
          "output_type": "stream",
          "name": "stdout",
          "text": [
            "Enter the file name (including extension): WaterUsageCville.csv\n",
            "Do you want to add or delete a column? (add/delete): delete\n",
            "Available columns:\n",
            "UtilityConsumptionID\n",
            "June2018\n",
            "July2018\n",
            "August2018\n",
            "September2018\n",
            "October2018\n",
            "November2018\n",
            "December2018\n",
            "January2019\n",
            "February2019\n",
            "March2019\n",
            "April2019\n",
            "Enter the name of the column to delete: April2019\n",
            "Column 'April2019' deleted successfully.\n",
            "\n",
            "Modified DataFrame:\n",
            "   UtilityConsumptionID  June2018  July2018  August2018  September2018  \\\n",
            "0                     1   1483572   1383526     1447082        1674497   \n",
            "1                     2    515021    528651      518084         575989   \n",
            "2                     3    253210    274249      272838         280603   \n",
            "3                     4    516853    489506      520905         541363   \n",
            "4                     5    461108    545330      437904         487358   \n",
            "\n",
            "   October2018  November2018  December2018  January2019  February2019  \\\n",
            "0      1206079       1406674       1278349      1127121       1152809   \n",
            "1       458728        538587        505504       438123        482170   \n",
            "2       218916        240953        237290       221760        206131   \n",
            "3       413531        474741        492663       432400        430947   \n",
            "4       489012        402648        429414       496091        377719   \n",
            "\n",
            "   March2019  \n",
            "0    1042641  \n",
            "1     438866  \n",
            "2     191738  \n",
            "3     409660  \n",
            "4     388887  \n",
            "Do you want to save the changes to the SQL database? (yes/no): yes\n",
            "Changes saved to 'water_usage_modified.db'\n",
            "\n",
            "Original file:\n",
            "Number of records: 19\n",
            "Number of columns: 12\n",
            "\n",
            "Final SQL database:\n",
            "Number of records: 19\n",
            "Number of columns: 11\n"
          ]
        }
      ]
    }
  ]
}